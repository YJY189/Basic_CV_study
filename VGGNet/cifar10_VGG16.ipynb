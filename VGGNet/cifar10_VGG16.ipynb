{
 "cells": [
  {
   "cell_type": "markdown",
   "id": "9d3a78ac",
   "metadata": {},
   "source": [
    "### GPU 사용"
   ]
  },
  {
   "cell_type": "code",
   "execution_count": 1,
   "id": "a10d60fe",
   "metadata": {},
   "outputs": [
    {
     "name": "stdout",
     "output_type": "stream",
     "text": [
      "cuda:0\n"
     ]
    }
   ],
   "source": [
    "import torch\n",
    "\n",
    "device = torch.device(\"cuda:0\" if torch.cuda.is_available() else \"cpu\")\n",
    "print(device)"
   ]
  },
  {
   "cell_type": "markdown",
   "id": "dfeebf50",
   "metadata": {},
   "source": [
    "### 만들어둔 model 불러오기"
   ]
  },
  {
   "cell_type": "code",
   "execution_count": 2,
   "id": "7455ddde",
   "metadata": {},
   "outputs": [],
   "source": [
    "from model_paper import VGGNet16"
   ]
  },
  {
   "cell_type": "code",
   "execution_count": 3,
   "id": "eceec773",
   "metadata": {},
   "outputs": [],
   "source": [
    "vgg16 = VGGNet16(dataset ='cifar10', num_classes=10).to(device)"
   ]
  },
  {
   "cell_type": "code",
   "execution_count": 4,
   "id": "f9066f61",
   "metadata": {},
   "outputs": [
    {
     "data": {
      "text/plain": [
       "==========================================================================================\n",
       "Layer (type:depth-idx)                   Output Shape              Param #\n",
       "==========================================================================================\n",
       "VGGNet16                                 [64, 10]                  --\n",
       "├─Sequential: 1-1                        [64, 512, 1, 1]           --\n",
       "│    └─Sequential: 2-1                   [64, 64, 16, 16]          --\n",
       "│    │    └─Conv2d: 3-1                  [64, 64, 32, 32]          1,792\n",
       "│    │    └─ReLU: 3-2                    [64, 64, 32, 32]          --\n",
       "│    │    └─Conv2d: 3-3                  [64, 64, 32, 32]          36,928\n",
       "│    │    └─ReLU: 3-4                    [64, 64, 32, 32]          --\n",
       "│    │    └─MaxPool2d: 3-5               [64, 64, 16, 16]          --\n",
       "│    └─Sequential: 2-2                   [64, 128, 8, 8]           --\n",
       "│    │    └─Conv2d: 3-6                  [64, 128, 16, 16]         73,856\n",
       "│    │    └─ReLU: 3-7                    [64, 128, 16, 16]         --\n",
       "│    │    └─Conv2d: 3-8                  [64, 128, 16, 16]         147,584\n",
       "│    │    └─ReLU: 3-9                    [64, 128, 16, 16]         --\n",
       "│    │    └─MaxPool2d: 3-10              [64, 128, 8, 8]           --\n",
       "│    └─Sequential: 2-3                   [64, 256, 4, 4]           --\n",
       "│    │    └─Conv2d: 3-11                 [64, 256, 8, 8]           295,168\n",
       "│    │    └─ReLU: 3-12                   [64, 256, 8, 8]           --\n",
       "│    │    └─Conv2d: 3-13                 [64, 256, 8, 8]           590,080\n",
       "│    │    └─ReLU: 3-14                   [64, 256, 8, 8]           --\n",
       "│    │    └─Conv2d: 3-15                 [64, 256, 8, 8]           590,080\n",
       "│    │    └─ReLU: 3-16                   [64, 256, 8, 8]           --\n",
       "│    │    └─MaxPool2d: 3-17              [64, 256, 4, 4]           --\n",
       "│    └─Sequential: 2-4                   [64, 512, 2, 2]           --\n",
       "│    │    └─Conv2d: 3-18                 [64, 512, 4, 4]           1,180,160\n",
       "│    │    └─ReLU: 3-19                   [64, 512, 4, 4]           --\n",
       "│    │    └─Conv2d: 3-20                 [64, 512, 4, 4]           2,359,808\n",
       "│    │    └─ReLU: 3-21                   [64, 512, 4, 4]           --\n",
       "│    │    └─Conv2d: 3-22                 [64, 512, 4, 4]           2,359,808\n",
       "│    │    └─ReLU: 3-23                   [64, 512, 4, 4]           --\n",
       "│    │    └─MaxPool2d: 3-24              [64, 512, 2, 2]           --\n",
       "│    └─Sequential: 2-5                   [64, 512, 1, 1]           --\n",
       "│    │    └─Conv2d: 3-25                 [64, 512, 2, 2]           2,359,808\n",
       "│    │    └─ReLU: 3-26                   [64, 512, 2, 2]           --\n",
       "│    │    └─Conv2d: 3-27                 [64, 512, 2, 2]           2,359,808\n",
       "│    │    └─ReLU: 3-28                   [64, 512, 2, 2]           --\n",
       "│    │    └─Conv2d: 3-29                 [64, 512, 2, 2]           2,359,808\n",
       "│    │    └─ReLU: 3-30                   [64, 512, 2, 2]           --\n",
       "│    │    └─MaxPool2d: 3-31              [64, 512, 1, 1]           --\n",
       "├─Sequential: 1-2                        [64, 10]                  --\n",
       "│    └─Dropout: 2-6                      [64, 512]                 --\n",
       "│    └─Linear: 2-7                       [64, 512]                 262,656\n",
       "│    └─ReLU: 2-8                         [64, 512]                 --\n",
       "│    └─Dropout: 2-9                      [64, 512]                 --\n",
       "│    └─Linear: 2-10                      [64, 512]                 262,656\n",
       "│    └─ReLU: 2-11                        [64, 512]                 --\n",
       "│    └─Linear: 2-12                      [64, 10]                  5,130\n",
       "==========================================================================================\n",
       "Total params: 15,245,130\n",
       "Trainable params: 15,245,130\n",
       "Non-trainable params: 0\n",
       "Total mult-adds (G): 20.10\n",
       "==========================================================================================\n",
       "Input size (MB): 0.79\n",
       "Forward/backward pass size (MB): 142.09\n",
       "Params size (MB): 60.98\n",
       "Estimated Total Size (MB): 203.85\n",
       "=========================================================================================="
      ]
     },
     "execution_count": 4,
     "metadata": {},
     "output_type": "execute_result"
    }
   ],
   "source": [
    "from torchinfo import summary\n",
    "summary(vgg16, (64, 3, 32, 32))"
   ]
  },
  {
   "cell_type": "markdown",
   "id": "f0cd6de3",
   "metadata": {},
   "source": [
    "### CIFAR10 불러오기"
   ]
  },
  {
   "cell_type": "code",
   "execution_count": 5,
   "id": "dee13378",
   "metadata": {},
   "outputs": [],
   "source": [
    "import torch.nn as nn\n",
    "import torchvision\n",
    "import torchvision.transforms as transforms"
   ]
  },
  {
   "cell_type": "code",
   "execution_count": 6,
   "id": "bbcd70ce",
   "metadata": {},
   "outputs": [],
   "source": [
    "transform = transforms.Compose(\n",
    "    [transforms.ToTensor(),\n",
    "     transforms.Normalize((0.5, 0.5, 0.5), (0.5, 0.5, 0.5))])"
   ]
  },
  {
   "cell_type": "code",
   "execution_count": 7,
   "id": "00330216",
   "metadata": {},
   "outputs": [],
   "source": [
    "batch_size = 128"
   ]
  },
  {
   "cell_type": "code",
   "execution_count": 8,
   "id": "2a49daba",
   "metadata": {},
   "outputs": [
    {
     "name": "stdout",
     "output_type": "stream",
     "text": [
      "Files already downloaded and verified\n",
      "Files already downloaded and verified\n"
     ]
    }
   ],
   "source": [
    "trainset = torchvision.datasets.CIFAR10(root='./data', train=True,\n",
    "                                        download=True, transform=transform)\n",
    "testset = torchvision.datasets.CIFAR10(root='./data', train=False,\n",
    "                                       download=True, transform=transform)"
   ]
  },
  {
   "cell_type": "code",
   "execution_count": 9,
   "id": "d891ddf2",
   "metadata": {},
   "outputs": [],
   "source": [
    "trainloader = torch.utils.data.DataLoader(trainset, batch_size=batch_size,\n",
    "                                          shuffle=True, num_workers=0)\n",
    "testloader = torch.utils.data.DataLoader(testset, batch_size=batch_size,\n",
    "                                         shuffle=False, num_workers=0)"
   ]
  },
  {
   "cell_type": "code",
   "execution_count": 10,
   "id": "730645f7",
   "metadata": {},
   "outputs": [],
   "source": [
    "classes = ('plane', 'car', 'bird', 'cat',\n",
    "           'deer', 'dog', 'frog', 'horse', 'ship', 'truck')"
   ]
  },
  {
   "cell_type": "markdown",
   "id": "27ceebdc",
   "metadata": {},
   "source": [
    "### 학습하기"
   ]
  },
  {
   "cell_type": "code",
   "execution_count": 11,
   "id": "3b44f48b",
   "metadata": {},
   "outputs": [],
   "source": [
    "import torch.optim as optim\n",
    "\n",
    "criterion = nn.CrossEntropyLoss()\n",
    "optimizer = optim.Adam(vgg16.parameters(), lr=0.001)"
   ]
  },
  {
   "cell_type": "code",
   "execution_count": 12,
   "id": "c30087ab",
   "metadata": {},
   "outputs": [],
   "source": [
    "epochs = 30"
   ]
  },
  {
   "cell_type": "code",
   "execution_count": 13,
   "id": "3debb4a7",
   "metadata": {},
   "outputs": [
    {
     "name": "stderr",
     "output_type": "stream",
     "text": [
      "100%|████████████████████████████████████████████████████████████████████████████████| 391/391 [00:26<00:00, 15.00it/s]\n"
     ]
    },
    {
     "name": "stdout",
     "output_type": "stream",
     "text": [
      "epoch : 1\n",
      "loss : 2.057128\n",
      "Accuracy : 24.66%\n"
     ]
    },
    {
     "name": "stderr",
     "output_type": "stream",
     "text": [
      "100%|████████████████████████████████████████████████████████████████████████████████| 391/391 [00:25<00:00, 15.23it/s]\n"
     ]
    },
    {
     "name": "stdout",
     "output_type": "stream",
     "text": [
      "epoch : 2\n",
      "loss : 1.802655\n",
      "Accuracy : 29.20%\n"
     ]
    },
    {
     "name": "stderr",
     "output_type": "stream",
     "text": [
      "100%|████████████████████████████████████████████████████████████████████████████████| 391/391 [00:25<00:00, 15.15it/s]\n"
     ]
    },
    {
     "name": "stdout",
     "output_type": "stream",
     "text": [
      "epoch : 3\n",
      "loss : 1.610810\n",
      "Accuracy : 41.76%\n"
     ]
    },
    {
     "name": "stderr",
     "output_type": "stream",
     "text": [
      "100%|████████████████████████████████████████████████████████████████████████████████| 391/391 [00:25<00:00, 15.14it/s]\n"
     ]
    },
    {
     "name": "stdout",
     "output_type": "stream",
     "text": [
      "epoch : 4\n",
      "loss : 1.414067\n",
      "Accuracy : 48.88%\n"
     ]
    },
    {
     "name": "stderr",
     "output_type": "stream",
     "text": [
      "100%|████████████████████████████████████████████████████████████████████████████████| 391/391 [00:26<00:00, 14.82it/s]\n"
     ]
    },
    {
     "name": "stdout",
     "output_type": "stream",
     "text": [
      "epoch : 5\n",
      "loss : 1.229887\n",
      "Accuracy : 57.48%\n"
     ]
    },
    {
     "name": "stderr",
     "output_type": "stream",
     "text": [
      "100%|████████████████████████████████████████████████████████████████████████████████| 391/391 [00:25<00:00, 15.17it/s]\n"
     ]
    },
    {
     "name": "stdout",
     "output_type": "stream",
     "text": [
      "epoch : 6\n",
      "loss : 1.083080\n",
      "Accuracy : 62.65%\n"
     ]
    },
    {
     "name": "stderr",
     "output_type": "stream",
     "text": [
      "100%|████████████████████████████████████████████████████████████████████████████████| 391/391 [00:25<00:00, 15.19it/s]\n"
     ]
    },
    {
     "name": "stdout",
     "output_type": "stream",
     "text": [
      "epoch : 7\n",
      "loss : 0.974716\n",
      "Accuracy : 62.87%\n"
     ]
    },
    {
     "name": "stderr",
     "output_type": "stream",
     "text": [
      "100%|████████████████████████████████████████████████████████████████████████████████| 391/391 [00:25<00:00, 15.18it/s]\n"
     ]
    },
    {
     "name": "stdout",
     "output_type": "stream",
     "text": [
      "epoch : 8\n",
      "loss : 0.870477\n",
      "Accuracy : 67.97%\n"
     ]
    },
    {
     "name": "stderr",
     "output_type": "stream",
     "text": [
      "100%|████████████████████████████████████████████████████████████████████████████████| 391/391 [00:25<00:00, 15.26it/s]\n"
     ]
    },
    {
     "name": "stdout",
     "output_type": "stream",
     "text": [
      "epoch : 9\n",
      "loss : 0.797189\n",
      "Accuracy : 69.51%\n"
     ]
    },
    {
     "name": "stderr",
     "output_type": "stream",
     "text": [
      "100%|████████████████████████████████████████████████████████████████████████████████| 391/391 [00:25<00:00, 15.29it/s]\n"
     ]
    },
    {
     "name": "stdout",
     "output_type": "stream",
     "text": [
      "epoch : 10\n",
      "loss : 0.723630\n",
      "Accuracy : 70.67%\n"
     ]
    },
    {
     "name": "stderr",
     "output_type": "stream",
     "text": [
      "100%|████████████████████████████████████████████████████████████████████████████████| 391/391 [00:25<00:00, 15.19it/s]\n"
     ]
    },
    {
     "name": "stdout",
     "output_type": "stream",
     "text": [
      "epoch : 11\n",
      "loss : 0.658681\n",
      "Accuracy : 71.51%\n"
     ]
    },
    {
     "name": "stderr",
     "output_type": "stream",
     "text": [
      "100%|████████████████████████████████████████████████████████████████████████████████| 391/391 [00:25<00:00, 15.32it/s]\n"
     ]
    },
    {
     "name": "stdout",
     "output_type": "stream",
     "text": [
      "epoch : 12\n",
      "loss : 0.600840\n",
      "Accuracy : 72.15%\n"
     ]
    },
    {
     "name": "stderr",
     "output_type": "stream",
     "text": [
      "100%|████████████████████████████████████████████████████████████████████████████████| 391/391 [00:25<00:00, 15.36it/s]\n"
     ]
    },
    {
     "name": "stdout",
     "output_type": "stream",
     "text": [
      "epoch : 13\n",
      "loss : 0.567337\n",
      "Accuracy : 71.97%\n"
     ]
    },
    {
     "name": "stderr",
     "output_type": "stream",
     "text": [
      "100%|████████████████████████████████████████████████████████████████████████████████| 391/391 [00:25<00:00, 15.28it/s]\n"
     ]
    },
    {
     "name": "stdout",
     "output_type": "stream",
     "text": [
      "epoch : 14\n",
      "loss : 0.521217\n",
      "Accuracy : 73.16%\n"
     ]
    },
    {
     "name": "stderr",
     "output_type": "stream",
     "text": [
      "100%|████████████████████████████████████████████████████████████████████████████████| 391/391 [00:25<00:00, 15.32it/s]\n"
     ]
    },
    {
     "name": "stdout",
     "output_type": "stream",
     "text": [
      "epoch : 15\n",
      "loss : 0.481433\n",
      "Accuracy : 73.92%\n"
     ]
    },
    {
     "name": "stderr",
     "output_type": "stream",
     "text": [
      "100%|████████████████████████████████████████████████████████████████████████████████| 391/391 [00:25<00:00, 15.29it/s]\n"
     ]
    },
    {
     "name": "stdout",
     "output_type": "stream",
     "text": [
      "epoch : 16\n",
      "loss : 0.436169\n",
      "Accuracy : 74.09%\n"
     ]
    },
    {
     "name": "stderr",
     "output_type": "stream",
     "text": [
      "100%|████████████████████████████████████████████████████████████████████████████████| 391/391 [00:25<00:00, 15.30it/s]\n"
     ]
    },
    {
     "name": "stdout",
     "output_type": "stream",
     "text": [
      "epoch : 17\n",
      "loss : 0.414254\n",
      "Accuracy : 73.07%\n"
     ]
    },
    {
     "name": "stderr",
     "output_type": "stream",
     "text": [
      "100%|████████████████████████████████████████████████████████████████████████████████| 391/391 [00:25<00:00, 15.35it/s]\n"
     ]
    },
    {
     "name": "stdout",
     "output_type": "stream",
     "text": [
      "epoch : 18\n",
      "loss : 0.383157\n",
      "Accuracy : 73.68%\n"
     ]
    },
    {
     "name": "stderr",
     "output_type": "stream",
     "text": [
      "100%|████████████████████████████████████████████████████████████████████████████████| 391/391 [00:25<00:00, 15.29it/s]\n"
     ]
    },
    {
     "name": "stdout",
     "output_type": "stream",
     "text": [
      "epoch : 19\n",
      "loss : 0.439796\n",
      "Accuracy : 74.58%\n"
     ]
    },
    {
     "name": "stderr",
     "output_type": "stream",
     "text": [
      "100%|████████████████████████████████████████████████████████████████████████████████| 391/391 [00:25<00:00, 15.22it/s]\n"
     ]
    },
    {
     "name": "stdout",
     "output_type": "stream",
     "text": [
      "epoch : 20\n",
      "loss : 0.339025\n",
      "Accuracy : 74.16%\n"
     ]
    },
    {
     "name": "stderr",
     "output_type": "stream",
     "text": [
      "100%|████████████████████████████████████████████████████████████████████████████████| 391/391 [00:25<00:00, 15.36it/s]\n"
     ]
    },
    {
     "name": "stdout",
     "output_type": "stream",
     "text": [
      "epoch : 21\n",
      "loss : 0.313669\n",
      "Accuracy : 74.90%\n"
     ]
    },
    {
     "name": "stderr",
     "output_type": "stream",
     "text": [
      "100%|████████████████████████████████████████████████████████████████████████████████| 391/391 [00:25<00:00, 15.40it/s]\n"
     ]
    },
    {
     "name": "stdout",
     "output_type": "stream",
     "text": [
      "epoch : 22\n",
      "loss : 0.338226\n",
      "Accuracy : 73.01%\n"
     ]
    },
    {
     "name": "stderr",
     "output_type": "stream",
     "text": [
      "100%|████████████████████████████████████████████████████████████████████████████████| 391/391 [00:25<00:00, 15.39it/s]\n"
     ]
    },
    {
     "name": "stdout",
     "output_type": "stream",
     "text": [
      "epoch : 23\n",
      "loss : 0.294266\n",
      "Accuracy : 74.33%\n"
     ]
    },
    {
     "name": "stderr",
     "output_type": "stream",
     "text": [
      "100%|████████████████████████████████████████████████████████████████████████████████| 391/391 [00:25<00:00, 15.28it/s]\n"
     ]
    },
    {
     "name": "stdout",
     "output_type": "stream",
     "text": [
      "epoch : 24\n",
      "loss : 0.251063\n",
      "Accuracy : 74.54%\n"
     ]
    },
    {
     "name": "stderr",
     "output_type": "stream",
     "text": [
      "100%|████████████████████████████████████████████████████████████████████████████████| 391/391 [00:25<00:00, 15.25it/s]\n"
     ]
    },
    {
     "name": "stdout",
     "output_type": "stream",
     "text": [
      "epoch : 25\n",
      "loss : 0.264242\n",
      "Accuracy : 74.21%\n"
     ]
    },
    {
     "name": "stderr",
     "output_type": "stream",
     "text": [
      "100%|████████████████████████████████████████████████████████████████████████████████| 391/391 [00:25<00:00, 15.35it/s]\n"
     ]
    },
    {
     "name": "stdout",
     "output_type": "stream",
     "text": [
      "epoch : 26\n",
      "loss : 0.228181\n",
      "Accuracy : 74.82%\n"
     ]
    },
    {
     "name": "stderr",
     "output_type": "stream",
     "text": [
      "100%|████████████████████████████████████████████████████████████████████████████████| 391/391 [00:25<00:00, 15.23it/s]\n"
     ]
    },
    {
     "name": "stdout",
     "output_type": "stream",
     "text": [
      "epoch : 27\n",
      "loss : 0.235957\n",
      "Accuracy : 74.16%\n"
     ]
    },
    {
     "name": "stderr",
     "output_type": "stream",
     "text": [
      "100%|████████████████████████████████████████████████████████████████████████████████| 391/391 [00:25<00:00, 15.17it/s]\n"
     ]
    },
    {
     "name": "stdout",
     "output_type": "stream",
     "text": [
      "epoch : 28\n",
      "loss : 0.241161\n",
      "Accuracy : 75.44%\n"
     ]
    },
    {
     "name": "stderr",
     "output_type": "stream",
     "text": [
      "100%|████████████████████████████████████████████████████████████████████████████████| 391/391 [00:25<00:00, 15.19it/s]\n"
     ]
    },
    {
     "name": "stdout",
     "output_type": "stream",
     "text": [
      "epoch : 29\n",
      "loss : 0.224801\n",
      "Accuracy : 74.32%\n"
     ]
    },
    {
     "name": "stderr",
     "output_type": "stream",
     "text": [
      "100%|████████████████████████████████████████████████████████████████████████████████| 391/391 [00:25<00:00, 15.25it/s]\n"
     ]
    },
    {
     "name": "stdout",
     "output_type": "stream",
     "text": [
      "epoch : 30\n",
      "loss : 0.211115\n",
      "Accuracy : 73.90%\n"
     ]
    }
   ],
   "source": [
    "from tqdm import tqdm\n",
    "accuracy_list = []\n",
    "loss_list = []\n",
    "\n",
    "n = len(trainloader) # 배치 개수\n",
    "\n",
    "for epoch in range(epochs):\n",
    "    running_loss = 0.0\n",
    "    for data in tqdm(trainloader):\n",
    "        inputs, labels = data[0].to(device), data[1].to(device)\n",
    "        \n",
    "        optimizer.zero_grad()\n",
    "        \n",
    "        outputs = vgg16(inputs)\n",
    "        \n",
    "        loss = criterion(outputs, labels)\n",
    "        \n",
    "        loss.backward()\n",
    "        optimizer.step()\n",
    "        \n",
    "        running_loss += loss.item()\n",
    "    \n",
    "    with torch.no_grad():\n",
    "        total = 0\n",
    "        correct = 0\n",
    "        for data in testloader:\n",
    "            images, labels = data\n",
    "        \n",
    "            images = images.to(device)\n",
    "            labels = labels.to(device)\n",
    "            \n",
    "            outputs = vgg16(images)\n",
    "            _, predicted = torch.max(outputs.data, 1)\n",
    "            \n",
    "            total += labels.size(0)\n",
    "            correct += (predicted==labels).sum()\n",
    "        \n",
    "    avg_loss = running_loss/n\n",
    "    accuracy = 100*correct/total\n",
    "        \n",
    "    loss_list.append(avg_loss)\n",
    "    accuracy_list.append(accuracy.cpu().numpy())\n",
    "    \n",
    "    print(\"epoch : {}\".format(epoch+1))\n",
    "    print('loss : {:.6f}'.format(avg_loss))\n",
    "    print(\"Accuracy : {:.2f}%\".format(accuracy))"
   ]
  },
  {
   "cell_type": "markdown",
   "id": "54f2ebdf",
   "metadata": {},
   "source": [
    "### loss & accuracy 시각화"
   ]
  },
  {
   "cell_type": "code",
   "execution_count": 16,
   "id": "89d71b49",
   "metadata": {},
   "outputs": [
    {
     "data": {
      "image/png": "[encoded data removed]",
      "text/plain": [
       "<Figure size 1000x500 with 2 Axes>"
      ]
     },
     "metadata": {},
     "output_type": "display_data"
    }
   ],
   "source": [
    "import matplotlib.pyplot as plt\n",
    "import numpy as np\n",
    "\n",
    "plt.figure(figsize=(10,5))\n",
    "plt.subplot(1,2,1)\n",
    "plt.xlabel('Epoch')\n",
    "plt.ylabel('Loss')\n",
    "plt.plot(np.arange(1,epochs+1),loss_list)\n",
    "plt.subplot(1,2,2)\n",
    "plt.xlabel('Epoch')\n",
    "plt.ylabel('Accuracy')\n",
    "plt.plot(np.arange(1,epochs+1), accuracy_list)\n",
    "plt.show()"
   ]
  },
  {
   "cell_type": "markdown",
   "id": "fc8d4828",
   "metadata": {},
   "source": [
    "### model 저장"
   ]
  },
  {
   "cell_type": "code",
   "execution_count": 17,
   "id": "489bb9be",
   "metadata": {},
   "outputs": [],
   "source": [
    "PATH = './cifar_vgg16.pth'\n",
    "torch.save(vgg16.state_dict(), PATH)"
   ]
  },
  {
   "cell_type": "markdown",
   "id": "f2c00649",
   "metadata": {},
   "source": [
    "### model 불러오기"
   ]
  },
  {
   "cell_type": "code",
   "execution_count": 18,
   "id": "90866d1a",
   "metadata": {},
   "outputs": [
    {
     "data": {
      "text/plain": [
       "<All keys matched successfully>"
      ]
     },
     "execution_count": 18,
     "metadata": {},
     "output_type": "execute_result"
    }
   ],
   "source": [
    "net = VGGNet16(dataset ='cifar10', num_classes=10).to(device)\n",
    "net.load_state_dict(torch.load(PATH))"
   ]
  },
  {
   "cell_type": "code",
   "execution_count": 19,
   "id": "8dcef9e2",
   "metadata": {},
   "outputs": [
    {
     "name": "stderr",
     "output_type": "stream",
     "text": [
      "100%|██████████████████████████████████████████████████████████████████████████████████| 79/79 [00:03<00:00, 25.26it/s]"
     ]
    },
    {
     "name": "stdout",
     "output_type": "stream",
     "text": [
      "Accuracy of the network on the 10000 test images: 73 %\n"
     ]
    },
    {
     "name": "stderr",
     "output_type": "stream",
     "text": [
      "\n"
     ]
    }
   ],
   "source": [
    "correct = 0\n",
    "total = 0\n",
    "\n",
    "with torch.no_grad():\n",
    "    for data in tqdm(testloader):\n",
    "        images, labels = data\n",
    "        \n",
    "        images = images.to(device)\n",
    "        labels = labels.to(device)\n",
    "        \n",
    "        outputs = net(images)\n",
    "        \n",
    "        _, predicted = torch.max(outputs.data, 1)\n",
    "        total += labels.size(0)\n",
    "        correct += (predicted == labels).sum().item()\n",
    "\n",
    "print(f'Accuracy of the network on the 10000 test images: {100 * correct // total} %')"
   ]
  },
  {
   "cell_type": "code",
   "execution_count": 20,
   "id": "84ace238",
   "metadata": {},
   "outputs": [
    {
     "name": "stderr",
     "output_type": "stream",
     "text": [
      "100%|██████████████████████████████████████████████████████████████████████████████████| 79/79 [00:04<00:00, 18.10it/s]"
     ]
    },
    {
     "name": "stdout",
     "output_type": "stream",
     "text": [
      "Accuracy for class: plane is 79.3 %\n",
      "Accuracy for class: car   is 86.6 %\n",
      "Accuracy for class: bird  is 64.6 %\n",
      "Accuracy for class: cat   is 55.7 %\n",
      "Accuracy for class: deer  is 59.1 %\n",
      "Accuracy for class: dog   is 66.2 %\n",
      "Accuracy for class: frog  is 75.8 %\n",
      "Accuracy for class: horse is 76.5 %\n",
      "Accuracy for class: ship  is 83.2 %\n",
      "Accuracy for class: truck is 89.4 %\n"
     ]
    },
    {
     "name": "stderr",
     "output_type": "stream",
     "text": [
      "\n"
     ]
    }
   ],
   "source": [
    "# 각 분류(class)에 대한 예측값 계산을 위해 준비\n",
    "correct_pred = {classname: 0 for classname in classes}\n",
    "total_pred = {classname: 0 for classname in classes}\n",
    "\n",
    "with torch.no_grad():\n",
    "    for data in tqdm(testloader):\n",
    "        images, labels = data\n",
    "        \n",
    "        images = images.to(device)\n",
    "        labels = labels.to(device)\n",
    "        \n",
    "        outputs = net(images)\n",
    "        _, predictions = torch.max(outputs, 1)\n",
    "        # 각 분류별로 올바른 예측 수를 모읍니다\n",
    "        for label, prediction in zip(labels, predictions):\n",
    "            if label == prediction:\n",
    "                correct_pred[classes[label]] += 1\n",
    "            total_pred[classes[label]] += 1\n",
    "\n",
    "\n",
    "# 각 분류별 정확도(accuracy)를 출력합니다\n",
    "for classname, correct_count in correct_pred.items():\n",
    "    accuracy = 100 * float(correct_count) / total_pred[classname]\n",
    "    print(f'Accuracy for class: {classname:5s} is {accuracy:.1f} %')"
   ]
  },
  {
   "cell_type": "code",
   "execution_count": null,
   "id": "80ba43b1",
   "metadata": {},
   "outputs": [],
   "source": []
  }
 ],
 "metadata": {
  "kernelspec": {
   "display_name": "Python 3 (ipykernel)",
   "language": "python",
   "name": "python3"
  },
  "language_info": {
   "codemirror_mode": {
    "name": "ipython",
    "version": 3
   },
   "file_extension": ".py",
   "mimetype": "text/x-python",
   "name": "python",
   "nbconvert_exporter": "python",
   "pygments_lexer": "ipython3",
   "version": "3.9.13"
  }
 },
 "nbformat": 4,
 "nbformat_minor": 5
}
